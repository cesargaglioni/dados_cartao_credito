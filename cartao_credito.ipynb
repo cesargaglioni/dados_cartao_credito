{
  "nbformat": 4,
  "nbformat_minor": 0,
  "metadata": {
    "colab": {
      "provenance": []
    },
    "kernelspec": {
      "name": "python3",
      "display_name": "Python 3"
    },
    "language_info": {
      "name": "python"
    }
  },
  "cells": [
    {
      "cell_type": "markdown",
      "source": [
        "# Análise de Padrões de Gastos em um Banco Digital\n",
        "\n",
        "O projeto tem como objetivo realizar uma análise de dados financeiros de clientes de um banco digital, visando identificar padrões de gastos e fornecer insights valiosos para a tomada de decisões estratégicas. Os dados foram retirados de datasets disponíveis no Kaggle.com. \n",
        "\n"
      ],
      "metadata": {
        "id": "ex7PNqh-Jhua"
      }
    },
    {
      "cell_type": "code",
      "source": [
        "# Importando as bibliotecas necessárias\n",
        "import pandas as pd\n",
        "import matplotlib.pyplot as plt\n",
        "import seaborn as sns"
      ],
      "metadata": {
        "id": "HGkEcuekK-j4"
      },
      "execution_count": 58,
      "outputs": []
    },
    {
      "cell_type": "code",
      "source": [
        "\n",
        "# Carregando os dados na tabela 'df'\n",
        "df = pd.read_csv('dados.csv',\n",
        "   encoding='CP1252', \n",
        "                 sep=';', \n",
        "                 decimal=',', \n",
        "                 na_values=' -   ',\n",
        "                 thousands='.',\n",
        "                 parse_dates=[8], \n",
        "                 dayfirst=True)\n",
        "\n",
        "# Imprimindo as 5 primeiras linhas\n",
        "df.head()"
      ],
      "metadata": {
        "colab": {
          "base_uri": "https://localhost:8080/",
          "height": 206
        },
        "id": "-ki1Js1dK7Mm",
        "outputId": "3b5f2f66-436c-49ab-ee97-db617a36d62e"
      },
      "execution_count": 59,
      "outputs": [
        {
          "output_type": "execute_result",
          "data": {
            "text/plain": [
              "          ï»¿id  safra_abertura                  cidade estado  idade sexo  \\\n",
              "0  4.530000e+11          201405  CAMPO LIMPO PAULISTA      SP      37    F   \n",
              "1  4.530000e+11          201405  CAMPO LIMPO PAULISTA      SP      37    F   \n",
              "2  4.530000e+11          201405  CAMPO LIMPO PAULISTA      SP      37    F   \n",
              "3  4.530000e+11          201405  CAMPO LIMPO PAULISTA      SP      37    F   \n",
              "4  4.530000e+11          201405  CAMPO LIMPO PAULISTA      SP      37    F   \n",
              "\n",
              "   limite_total  limite_disp       data   valor   grupo_estabelecimento  \\\n",
              "0          4700         5605 2019-12-04       31                SERVICO   \n",
              "1          4700         5343 2019-11-09      150              FARMACIAS   \n",
              "2          4700         2829 2019-05-06       50                SERVICO   \n",
              "3          4700         2547 2019-06-01       54               M.O.T.O.   \n",
              "4          4700         2515 2019-06-01       33               M.O.T.O.   \n",
              "\n",
              "  cidade_estabelecimento pais_estabelecimento  \n",
              "0              SAO PAULO                   BR  \n",
              "1                 SANTOS                   BR  \n",
              "2              SAO PAULO                   BR  \n",
              "3                 OSASCO                   BR  \n",
              "4                 OSASCO                   BR  "
            ],
            "text/html": [
              "\n",
              "  <div id=\"df-1d1eb52c-a526-41a3-b856-f7e688acb5b1\">\n",
              "    <div class=\"colab-df-container\">\n",
              "      <div>\n",
              "<style scoped>\n",
              "    .dataframe tbody tr th:only-of-type {\n",
              "        vertical-align: middle;\n",
              "    }\n",
              "\n",
              "    .dataframe tbody tr th {\n",
              "        vertical-align: top;\n",
              "    }\n",
              "\n",
              "    .dataframe thead th {\n",
              "        text-align: right;\n",
              "    }\n",
              "</style>\n",
              "<table border=\"1\" class=\"dataframe\">\n",
              "  <thead>\n",
              "    <tr style=\"text-align: right;\">\n",
              "      <th></th>\n",
              "      <th>ï»¿id</th>\n",
              "      <th>safra_abertura</th>\n",
              "      <th>cidade</th>\n",
              "      <th>estado</th>\n",
              "      <th>idade</th>\n",
              "      <th>sexo</th>\n",
              "      <th>limite_total</th>\n",
              "      <th>limite_disp</th>\n",
              "      <th>data</th>\n",
              "      <th>valor</th>\n",
              "      <th>grupo_estabelecimento</th>\n",
              "      <th>cidade_estabelecimento</th>\n",
              "      <th>pais_estabelecimento</th>\n",
              "    </tr>\n",
              "  </thead>\n",
              "  <tbody>\n",
              "    <tr>\n",
              "      <th>0</th>\n",
              "      <td>4.530000e+11</td>\n",
              "      <td>201405</td>\n",
              "      <td>CAMPO LIMPO PAULISTA</td>\n",
              "      <td>SP</td>\n",
              "      <td>37</td>\n",
              "      <td>F</td>\n",
              "      <td>4700</td>\n",
              "      <td>5605</td>\n",
              "      <td>2019-12-04</td>\n",
              "      <td>31</td>\n",
              "      <td>SERVICO</td>\n",
              "      <td>SAO PAULO</td>\n",
              "      <td>BR</td>\n",
              "    </tr>\n",
              "    <tr>\n",
              "      <th>1</th>\n",
              "      <td>4.530000e+11</td>\n",
              "      <td>201405</td>\n",
              "      <td>CAMPO LIMPO PAULISTA</td>\n",
              "      <td>SP</td>\n",
              "      <td>37</td>\n",
              "      <td>F</td>\n",
              "      <td>4700</td>\n",
              "      <td>5343</td>\n",
              "      <td>2019-11-09</td>\n",
              "      <td>150</td>\n",
              "      <td>FARMACIAS</td>\n",
              "      <td>SANTOS</td>\n",
              "      <td>BR</td>\n",
              "    </tr>\n",
              "    <tr>\n",
              "      <th>2</th>\n",
              "      <td>4.530000e+11</td>\n",
              "      <td>201405</td>\n",
              "      <td>CAMPO LIMPO PAULISTA</td>\n",
              "      <td>SP</td>\n",
              "      <td>37</td>\n",
              "      <td>F</td>\n",
              "      <td>4700</td>\n",
              "      <td>2829</td>\n",
              "      <td>2019-05-06</td>\n",
              "      <td>50</td>\n",
              "      <td>SERVICO</td>\n",
              "      <td>SAO PAULO</td>\n",
              "      <td>BR</td>\n",
              "    </tr>\n",
              "    <tr>\n",
              "      <th>3</th>\n",
              "      <td>4.530000e+11</td>\n",
              "      <td>201405</td>\n",
              "      <td>CAMPO LIMPO PAULISTA</td>\n",
              "      <td>SP</td>\n",
              "      <td>37</td>\n",
              "      <td>F</td>\n",
              "      <td>4700</td>\n",
              "      <td>2547</td>\n",
              "      <td>2019-06-01</td>\n",
              "      <td>54</td>\n",
              "      <td>M.O.T.O.</td>\n",
              "      <td>OSASCO</td>\n",
              "      <td>BR</td>\n",
              "    </tr>\n",
              "    <tr>\n",
              "      <th>4</th>\n",
              "      <td>4.530000e+11</td>\n",
              "      <td>201405</td>\n",
              "      <td>CAMPO LIMPO PAULISTA</td>\n",
              "      <td>SP</td>\n",
              "      <td>37</td>\n",
              "      <td>F</td>\n",
              "      <td>4700</td>\n",
              "      <td>2515</td>\n",
              "      <td>2019-06-01</td>\n",
              "      <td>33</td>\n",
              "      <td>M.O.T.O.</td>\n",
              "      <td>OSASCO</td>\n",
              "      <td>BR</td>\n",
              "    </tr>\n",
              "  </tbody>\n",
              "</table>\n",
              "</div>\n",
              "      <button class=\"colab-df-convert\" onclick=\"convertToInteractive('df-1d1eb52c-a526-41a3-b856-f7e688acb5b1')\"\n",
              "              title=\"Convert this dataframe to an interactive table.\"\n",
              "              style=\"display:none;\">\n",
              "        \n",
              "  <svg xmlns=\"http://www.w3.org/2000/svg\" height=\"24px\"viewBox=\"0 0 24 24\"\n",
              "       width=\"24px\">\n",
              "    <path d=\"M0 0h24v24H0V0z\" fill=\"none\"/>\n",
              "    <path d=\"M18.56 5.44l.94 2.06.94-2.06 2.06-.94-2.06-.94-.94-2.06-.94 2.06-2.06.94zm-11 1L8.5 8.5l.94-2.06 2.06-.94-2.06-.94L8.5 2.5l-.94 2.06-2.06.94zm10 10l.94 2.06.94-2.06 2.06-.94-2.06-.94-.94-2.06-.94 2.06-2.06.94z\"/><path d=\"M17.41 7.96l-1.37-1.37c-.4-.4-.92-.59-1.43-.59-.52 0-1.04.2-1.43.59L10.3 9.45l-7.72 7.72c-.78.78-.78 2.05 0 2.83L4 21.41c.39.39.9.59 1.41.59.51 0 1.02-.2 1.41-.59l7.78-7.78 2.81-2.81c.8-.78.8-2.07 0-2.86zM5.41 20L4 18.59l7.72-7.72 1.47 1.35L5.41 20z\"/>\n",
              "  </svg>\n",
              "      </button>\n",
              "      \n",
              "  <style>\n",
              "    .colab-df-container {\n",
              "      display:flex;\n",
              "      flex-wrap:wrap;\n",
              "      gap: 12px;\n",
              "    }\n",
              "\n",
              "    .colab-df-convert {\n",
              "      background-color: #E8F0FE;\n",
              "      border: none;\n",
              "      border-radius: 50%;\n",
              "      cursor: pointer;\n",
              "      display: none;\n",
              "      fill: #1967D2;\n",
              "      height: 32px;\n",
              "      padding: 0 0 0 0;\n",
              "      width: 32px;\n",
              "    }\n",
              "\n",
              "    .colab-df-convert:hover {\n",
              "      background-color: #E2EBFA;\n",
              "      box-shadow: 0px 1px 2px rgba(60, 64, 67, 0.3), 0px 1px 3px 1px rgba(60, 64, 67, 0.15);\n",
              "      fill: #174EA6;\n",
              "    }\n",
              "\n",
              "    [theme=dark] .colab-df-convert {\n",
              "      background-color: #3B4455;\n",
              "      fill: #D2E3FC;\n",
              "    }\n",
              "\n",
              "    [theme=dark] .colab-df-convert:hover {\n",
              "      background-color: #434B5C;\n",
              "      box-shadow: 0px 1px 3px 1px rgba(0, 0, 0, 0.15);\n",
              "      filter: drop-shadow(0px 1px 2px rgba(0, 0, 0, 0.3));\n",
              "      fill: #FFFFFF;\n",
              "    }\n",
              "  </style>\n",
              "\n",
              "      <script>\n",
              "        const buttonEl =\n",
              "          document.querySelector('#df-1d1eb52c-a526-41a3-b856-f7e688acb5b1 button.colab-df-convert');\n",
              "        buttonEl.style.display =\n",
              "          google.colab.kernel.accessAllowed ? 'block' : 'none';\n",
              "\n",
              "        async function convertToInteractive(key) {\n",
              "          const element = document.querySelector('#df-1d1eb52c-a526-41a3-b856-f7e688acb5b1');\n",
              "          const dataTable =\n",
              "            await google.colab.kernel.invokeFunction('convertToInteractive',\n",
              "                                                     [key], {});\n",
              "          if (!dataTable) return;\n",
              "\n",
              "          const docLinkHtml = 'Like what you see? Visit the ' +\n",
              "            '<a target=\"_blank\" href=https://colab.research.google.com/notebooks/data_table.ipynb>data table notebook</a>'\n",
              "            + ' to learn more about interactive tables.';\n",
              "          element.innerHTML = '';\n",
              "          dataTable['output_type'] = 'display_data';\n",
              "          await google.colab.output.renderOutput(dataTable, element);\n",
              "          const docLink = document.createElement('div');\n",
              "          docLink.innerHTML = docLinkHtml;\n",
              "          element.appendChild(docLink);\n",
              "        }\n",
              "      </script>\n",
              "    </div>\n",
              "  </div>\n",
              "  "
            ]
          },
          "metadata": {},
          "execution_count": 59
        }
      ]
    },
    {
      "cell_type": "markdown",
      "source": [
        "# Limpeza e pré-processamento dos dados\n",
        "Remoção de dados duplicados e tratamento de valores ausentes."
      ],
      "metadata": {
        "id": "CyNVNxHfLWdu"
      }
    },
    {
      "cell_type": "code",
      "source": [
        "# Remover entradas duplicadas\n",
        "df = df.drop_duplicates()\n",
        "\n",
        "# Tratar valores ausentes\n",
        "df  = df.dropna()\n",
        "\n",
        "\n",
        "# Exibir os dados limpos e pré-processados\n",
        "print(df.head())"
      ],
      "metadata": {
        "colab": {
          "base_uri": "https://localhost:8080/"
        },
        "id": "5yc-iRYBLlL7",
        "outputId": "57e7c0ca-06cb-4e07-9225-82a04e063cd8"
      },
      "execution_count": 60,
      "outputs": [
        {
          "output_type": "stream",
          "name": "stdout",
          "text": [
            "          ï»¿id  safra_abertura                  cidade estado  idade sexo  \\\n",
            "0  4.530000e+11          201405  CAMPO LIMPO PAULISTA      SP      37    F   \n",
            "1  4.530000e+11          201405  CAMPO LIMPO PAULISTA      SP      37    F   \n",
            "2  4.530000e+11          201405  CAMPO LIMPO PAULISTA      SP      37    F   \n",
            "3  4.530000e+11          201405  CAMPO LIMPO PAULISTA      SP      37    F   \n",
            "4  4.530000e+11          201405  CAMPO LIMPO PAULISTA      SP      37    F   \n",
            "\n",
            "   limite_total  limite_disp       data   valor   grupo_estabelecimento  \\\n",
            "0          4700         5605 2019-12-04       31                SERVICO   \n",
            "1          4700         5343 2019-11-09      150              FARMACIAS   \n",
            "2          4700         2829 2019-05-06       50                SERVICO   \n",
            "3          4700         2547 2019-06-01       54               M.O.T.O.   \n",
            "4          4700         2515 2019-06-01       33               M.O.T.O.   \n",
            "\n",
            "  cidade_estabelecimento pais_estabelecimento  \n",
            "0              SAO PAULO                   BR  \n",
            "1                 SANTOS                   BR  \n",
            "2              SAO PAULO                   BR  \n",
            "3                 OSASCO                   BR  \n",
            "4                 OSASCO                   BR  \n"
          ]
        }
      ]
    },
    {
      "cell_type": "markdown",
      "source": [
        "# Análise exploratória dos dados\n",
        "Gráficos e estatísticas descritivas para explorar os dados financeiros. Identifique tendências, padrões de gastos, principais categorias de despesas e quaisquer insights interessantes que possam ser extraídos."
      ],
      "metadata": {
        "id": "LwA4yYX2MlFN"
      }
    },
    {
      "cell_type": "code",
      "source": [
        "# Identificar as principais categorias de despesas\n",
        "top_categories = df['grupo_estabelecimento'].value_counts().head(5)  # Obter as 5 principais categorias\n",
        "print('Principais Categorias de Despesas:')\n",
        "print(top_categories)\n",
        "\n",
        "# Calcular a porcentagem do total\n",
        "total = top_categories.sum()\n",
        "percentages = (top_categories / total) * 100\n",
        "\n",
        "\n",
        "# Calcular a porcentagem do total\n",
        "total = top_categories.sum()\n",
        "percentages = (top_categories / total) * 100\n",
        "\n",
        "# Gerar um gráfico de barras das categorias de despesas com a porcentagem do total\n",
        "plt.figure(figsize=(8, 6))\n",
        "bars = top_categories.plot(kind='bar')\n",
        "plt.title('Distribuição das Categorias de Despesas')\n",
        "plt.xlabel('Categoria')\n",
        "plt.ylabel('Contagem')\n",
        "\n",
        "# Adicionar rótulos com a porcentagem do total em cada barra\n",
        "for i, v in enumerate(top_categories):\n",
        "    percent = round(percentages[i], 1)\n",
        "    bars.text(i, v, f'{percent}%')\n",
        "\n",
        "plt.show()\n",
        "\n",
        "\n",
        "\n",
        "\n",
        "\n",
        "\n",
        "\n",
        "\n",
        "\n",
        "\n",
        "\n"
      ],
      "metadata": {
        "colab": {
          "base_uri": "https://localhost:8080/",
          "height": 796
        },
        "id": "cva8yj1bMkjH",
        "outputId": "85c490dd-117f-47d3-8354-bbd4aea0e309"
      },
      "execution_count": 61,
      "outputs": [
        {
          "output_type": "stream",
          "name": "stdout",
          "text": [
            "Principais Categorias de Despesas:\n",
            "SERVICO          1774\n",
            "RESTAURANTE       870\n",
            "VAREJO            597\n",
            "SUPERMERCADOS     467\n",
            "VESTUARIO         236\n",
            "Name: grupo_estabelecimento, dtype: int64\n"
          ]
        },
        {
          "output_type": "display_data",
          "data": {
            "text/plain": [
              "<Figure size 800x600 with 1 Axes>"
            ],
            "image/png": "[encoded data removed]"
          },
          "metadata": {}
        }
      ]
    }
  ]
}